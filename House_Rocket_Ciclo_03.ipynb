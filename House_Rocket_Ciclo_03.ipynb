{
 "cells": [
  {
   "cell_type": "markdown",
   "metadata": {},
   "source": [
    "# Imports"
   ]
  },
  {
   "cell_type": "code",
   "execution_count": 2,
   "metadata": {},
   "outputs": [],
   "source": [
    "import pandas as pd\n",
    "import numpy as np\n",
    "from matplotlib import pyplot as plt\n",
    "from sklearn import linear_model as lm"
   ]
  },
  {
   "cell_type": "markdown",
   "metadata": {},
   "source": [
    "# Loading Data"
   ]
  },
  {
   "cell_type": "code",
   "execution_count": 3,
   "metadata": {},
   "outputs": [
    {
     "data": {
      "text/html": [
       "<div>\n",
       "<style scoped>\n",
       "    .dataframe tbody tr th:only-of-type {\n",
       "        vertical-align: middle;\n",
       "    }\n",
       "\n",
       "    .dataframe tbody tr th {\n",
       "        vertical-align: top;\n",
       "    }\n",
       "\n",
       "    .dataframe thead th {\n",
       "        text-align: right;\n",
       "    }\n",
       "</style>\n",
       "<table border=\"1\" class=\"dataframe\">\n",
       "  <thead>\n",
       "    <tr style=\"text-align: right;\">\n",
       "      <th></th>\n",
       "      <th>altura</th>\n",
       "      <th>peso</th>\n",
       "    </tr>\n",
       "  </thead>\n",
       "  <tbody>\n",
       "    <tr>\n",
       "      <th>0</th>\n",
       "      <td>63</td>\n",
       "      <td>127</td>\n",
       "    </tr>\n",
       "    <tr>\n",
       "      <th>1</th>\n",
       "      <td>64</td>\n",
       "      <td>121</td>\n",
       "    </tr>\n",
       "    <tr>\n",
       "      <th>2</th>\n",
       "      <td>66</td>\n",
       "      <td>142</td>\n",
       "    </tr>\n",
       "    <tr>\n",
       "      <th>3</th>\n",
       "      <td>69</td>\n",
       "      <td>157</td>\n",
       "    </tr>\n",
       "    <tr>\n",
       "      <th>4</th>\n",
       "      <td>69</td>\n",
       "      <td>162</td>\n",
       "    </tr>\n",
       "    <tr>\n",
       "      <th>5</th>\n",
       "      <td>71</td>\n",
       "      <td>156</td>\n",
       "    </tr>\n",
       "    <tr>\n",
       "      <th>6</th>\n",
       "      <td>71</td>\n",
       "      <td>169</td>\n",
       "    </tr>\n",
       "    <tr>\n",
       "      <th>7</th>\n",
       "      <td>72</td>\n",
       "      <td>165</td>\n",
       "    </tr>\n",
       "    <tr>\n",
       "      <th>8</th>\n",
       "      <td>73</td>\n",
       "      <td>181</td>\n",
       "    </tr>\n",
       "    <tr>\n",
       "      <th>9</th>\n",
       "      <td>75</td>\n",
       "      <td>208</td>\n",
       "    </tr>\n",
       "  </tbody>\n",
       "</table>\n",
       "</div>"
      ],
      "text/plain": [
       "   altura  peso\n",
       "0      63   127\n",
       "1      64   121\n",
       "2      66   142\n",
       "3      69   157\n",
       "4      69   162\n",
       "5      71   156\n",
       "6      71   169\n",
       "7      72   165\n",
       "8      73   181\n",
       "9      75   208"
      ]
     },
     "execution_count": 3,
     "metadata": {},
     "output_type": "execute_result"
    }
   ],
   "source": [
    "\n",
    "df_raw = pd.read_fwf('House_Rocket/altura_peso.txt')\n",
    "df_raw.columns = ['altura', 'peso']\n",
    "df_raw"
   ]
  },
  {
   "cell_type": "code",
   "execution_count": 237,
   "metadata": {},
   "outputs": [],
   "source": [
    "#yhat = b0 + b1*x\n",
    "X = df_raw['altura']\n",
    "yhat01 = -190 + 5.13*X"
   ]
  },
  {
   "cell_type": "code",
   "execution_count": 262,
   "metadata": {},
   "outputs": [
    {
     "data": {
      "text/plain": [
       "[<matplotlib.lines.Line2D at 0x1ca65f7de48>]"
      ]
     },
     "execution_count": 262,
     "metadata": {},
     "output_type": "execute_result"
    },
    {
     "data": {
      "image/png": "[encoded data removed]",
      "text/plain": [
       "<Figure size 432x288 with 1 Axes>"
      ]
     },
     "metadata": {
      "needs_background": "light"
     },
     "output_type": "display_data"
    }
   ],
   "source": [
    "plt.scatter( df_raw['altura'], df_raw['peso'])\n",
    "plt.plot(df_raw['altura'], yhat01, color='red')\n",
    "plt.plot(df_raw['altura'], yhat02, color='blue')\n",
    "plt.plot(df_raw['altura'], yhat03, color='black')"
   ]
  },
  {
   "cell_type": "code",
   "execution_count": 261,
   "metadata": {},
   "outputs": [],
   "source": [
    "#yhat = b0 + b1*X\n",
    "X = df_raw['altura']\n",
    "yhat01 = -190 + 5.13*X\n",
    "yhat02 = -260 + 6.01*X\n",
    "yhat03 = -266 + 6.13*X"
   ]
  },
  {
   "cell_type": "code",
   "execution_count": 232,
   "metadata": {},
   "outputs": [
    {
     "data": {
      "text/plain": [
       "0    133.19\n",
       "1    138.32\n",
       "2    148.58\n",
       "3    163.97\n",
       "4    143.45\n",
       "5    174.23\n",
       "6    174.23\n",
       "7    179.36\n",
       "8    179.36\n",
       "9    179.36\n",
       "Name: altura, dtype: float64"
      ]
     },
     "execution_count": 232,
     "metadata": {},
     "output_type": "execute_result"
    }
   ],
   "source": [
    "yhat01"
   ]
  },
  {
   "cell_type": "code",
   "execution_count": 233,
   "metadata": {},
   "outputs": [
    {
     "data": {
      "text/plain": [
       "0    118.63\n",
       "1    124.64\n",
       "2    136.66\n",
       "3    154.69\n",
       "4    130.65\n",
       "5    166.71\n",
       "6    166.71\n",
       "7    172.72\n",
       "8    172.72\n",
       "9    172.72\n",
       "Name: altura, dtype: float64"
      ]
     },
     "execution_count": 233,
     "metadata": {},
     "output_type": "execute_result"
    }
   ],
   "source": [
    "yhat02"
   ]
  },
  {
   "cell_type": "code",
   "execution_count": 255,
   "metadata": {},
   "outputs": [
    {
     "name": "stdout",
     "output_type": "stream",
     "text": [
      "SS M01: 1187.6947000000002\n",
      "SS M02: 652.8562999999997\n"
     ]
    }
   ],
   "source": [
    "# Least Square Error\n",
    "df1 = df_raw.copy()\n",
    "df1['yhat01'] = yhat01\n",
    "df1['yhat02'] = yhat02\n",
    "\n",
    "# error\n",
    "df1['error01'] = (df1['peso']-df1['yhat01'])**2\n",
    "df1['error02'] = (df1['peso']-df1['yhat02'])**2\n",
    "\n",
    "print( 'SS M01: {}'.format( np.sum(df1['error01'] )))\n",
    "print( 'SS M02: {}'.format( np.sum(df1['error02'] )))\n",
    "      "
   ]
  },
  {
   "cell_type": "code",
   "execution_count": 253,
   "metadata": {},
   "outputs": [
    {
     "data": {
      "text/html": [
       "<div>\n",
       "<style scoped>\n",
       "    .dataframe tbody tr th:only-of-type {\n",
       "        vertical-align: middle;\n",
       "    }\n",
       "\n",
       "    .dataframe tbody tr th {\n",
       "        vertical-align: top;\n",
       "    }\n",
       "\n",
       "    .dataframe thead th {\n",
       "        text-align: right;\n",
       "    }\n",
       "</style>\n",
       "<table border=\"1\" class=\"dataframe\">\n",
       "  <thead>\n",
       "    <tr style=\"text-align: right;\">\n",
       "      <th></th>\n",
       "      <th>altura</th>\n",
       "      <th>peso</th>\n",
       "      <th>yhat01</th>\n",
       "      <th>yhat02</th>\n",
       "      <th>error01</th>\n",
       "      <th>error02</th>\n",
       "    </tr>\n",
       "  </thead>\n",
       "  <tbody>\n",
       "    <tr>\n",
       "      <th>0</th>\n",
       "      <td>63</td>\n",
       "      <td>127</td>\n",
       "      <td>133.19</td>\n",
       "      <td>118.63</td>\n",
       "      <td>38.3161</td>\n",
       "      <td>70.0569</td>\n",
       "    </tr>\n",
       "    <tr>\n",
       "      <th>1</th>\n",
       "      <td>64</td>\n",
       "      <td>121</td>\n",
       "      <td>138.32</td>\n",
       "      <td>124.64</td>\n",
       "      <td>299.9824</td>\n",
       "      <td>13.2496</td>\n",
       "    </tr>\n",
       "    <tr>\n",
       "      <th>2</th>\n",
       "      <td>66</td>\n",
       "      <td>142</td>\n",
       "      <td>148.58</td>\n",
       "      <td>136.66</td>\n",
       "      <td>43.2964</td>\n",
       "      <td>28.5156</td>\n",
       "    </tr>\n",
       "    <tr>\n",
       "      <th>3</th>\n",
       "      <td>69</td>\n",
       "      <td>157</td>\n",
       "      <td>163.97</td>\n",
       "      <td>154.69</td>\n",
       "      <td>48.5809</td>\n",
       "      <td>5.3361</td>\n",
       "    </tr>\n",
       "    <tr>\n",
       "      <th>4</th>\n",
       "      <td>69</td>\n",
       "      <td>162</td>\n",
       "      <td>163.97</td>\n",
       "      <td>154.69</td>\n",
       "      <td>3.8809</td>\n",
       "      <td>53.4361</td>\n",
       "    </tr>\n",
       "    <tr>\n",
       "      <th>5</th>\n",
       "      <td>71</td>\n",
       "      <td>156</td>\n",
       "      <td>174.23</td>\n",
       "      <td>166.71</td>\n",
       "      <td>332.3329</td>\n",
       "      <td>114.7041</td>\n",
       "    </tr>\n",
       "    <tr>\n",
       "      <th>6</th>\n",
       "      <td>71</td>\n",
       "      <td>169</td>\n",
       "      <td>174.23</td>\n",
       "      <td>166.71</td>\n",
       "      <td>27.3529</td>\n",
       "      <td>5.2441</td>\n",
       "    </tr>\n",
       "    <tr>\n",
       "      <th>7</th>\n",
       "      <td>72</td>\n",
       "      <td>165</td>\n",
       "      <td>179.36</td>\n",
       "      <td>172.72</td>\n",
       "      <td>206.2096</td>\n",
       "      <td>59.5984</td>\n",
       "    </tr>\n",
       "    <tr>\n",
       "      <th>8</th>\n",
       "      <td>73</td>\n",
       "      <td>181</td>\n",
       "      <td>184.49</td>\n",
       "      <td>178.73</td>\n",
       "      <td>12.1801</td>\n",
       "      <td>5.1529</td>\n",
       "    </tr>\n",
       "    <tr>\n",
       "      <th>9</th>\n",
       "      <td>75</td>\n",
       "      <td>208</td>\n",
       "      <td>194.75</td>\n",
       "      <td>190.75</td>\n",
       "      <td>175.5625</td>\n",
       "      <td>297.5625</td>\n",
       "    </tr>\n",
       "  </tbody>\n",
       "</table>\n",
       "</div>"
      ],
      "text/plain": [
       "   altura  peso  yhat01  yhat02   error01   error02\n",
       "0      63   127  133.19  118.63   38.3161   70.0569\n",
       "1      64   121  138.32  124.64  299.9824   13.2496\n",
       "2      66   142  148.58  136.66   43.2964   28.5156\n",
       "3      69   157  163.97  154.69   48.5809    5.3361\n",
       "4      69   162  163.97  154.69    3.8809   53.4361\n",
       "5      71   156  174.23  166.71  332.3329  114.7041\n",
       "6      71   169  174.23  166.71   27.3529    5.2441\n",
       "7      72   165  179.36  172.72  206.2096   59.5984\n",
       "8      73   181  184.49  178.73   12.1801    5.1529\n",
       "9      75   208  194.75  190.75  175.5625  297.5625"
      ]
     },
     "execution_count": 253,
     "metadata": {},
     "output_type": "execute_result"
    }
   ],
   "source": [
    "df1"
   ]
  },
  {
   "cell_type": "code",
   "execution_count": 258,
   "metadata": {},
   "outputs": [
    {
     "data": {
      "text/plain": [
       "LinearRegression(copy_X=True, fit_intercept=True, n_jobs=None, normalize=False)"
      ]
     },
     "execution_count": 258,
     "metadata": {},
     "output_type": "execute_result"
    }
   ],
   "source": [
    "# model definition\n",
    "X = np.array(df_raw['altura']).reshape(-1,1)\n",
    "y = np.array(df_raw['peso']).reshape(-1,1)\n",
    "\n",
    "model_lm = lm.LinearRegression()\n",
    "\n",
    "# model training\n",
    "model_lm.fit(X, y)"
   ]
  },
  {
   "cell_type": "code",
   "execution_count": 260,
   "metadata": {},
   "outputs": [
    {
     "name": "stdout",
     "output_type": "stream",
     "text": [
      "b1: [[6.13758146]]\n",
      "b0: [-266.53439537]\n"
     ]
    }
   ],
   "source": [
    "print( 'b1: {}'.format(model_lm.coef_))\n",
    "print('b0: {}'.format(model_lm.intercept_))"
   ]
  },
  {
   "cell_type": "code",
   "execution_count": 263,
   "metadata": {},
   "outputs": [
    {
     "data": {
      "text/plain": [
       "169.41000000000003"
      ]
     },
     "execution_count": 263,
     "metadata": {},
     "output_type": "execute_result"
    }
   ],
   "source": [
    "altura01 = 71\n",
    "peso01 = -266.53 + 6.14*altura01\n",
    "peso01"
   ]
  },
  {
   "cell_type": "code",
   "execution_count": 264,
   "metadata": {},
   "outputs": [
    {
     "data": {
      "text/plain": [
       "175.55"
      ]
     },
     "execution_count": 264,
     "metadata": {},
     "output_type": "execute_result"
    }
   ],
   "source": [
    "altura02 = 72\n",
    "peso02 = -266.53 + 6.14*altura02\n",
    "peso02"
   ]
  },
  {
   "cell_type": "code",
   "execution_count": 265,
   "metadata": {},
   "outputs": [
    {
     "data": {
      "text/plain": [
       "6.140000000000015"
      ]
     },
     "execution_count": 265,
     "metadata": {},
     "output_type": "execute_result"
    }
   ],
   "source": [
    "175.55 - 169.41"
   ]
  },
  {
   "cell_type": "code",
   "execution_count": null,
   "metadata": {},
   "outputs": [],
   "source": []
  }
 ],
 "metadata": {
  "kernelspec": {
   "display_name": "Python 3",
   "language": "python",
   "name": "python3"
  },
  "language_info": {
   "codemirror_mode": {
    "name": "ipython",
    "version": 3
   },
   "file_extension": ".py",
   "mimetype": "text/x-python",
   "name": "python",
   "nbconvert_exporter": "python",
   "pygments_lexer": "ipython3",
   "version": "3.7.6"
  }
 },
 "nbformat": 4,
 "nbformat_minor": 4
}
